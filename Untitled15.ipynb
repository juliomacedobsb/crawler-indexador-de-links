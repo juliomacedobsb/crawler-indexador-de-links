{
  "nbformat": 4,
  "nbformat_minor": 0,
  "metadata": {
    "colab": {
      "name": "Untitled15.ipynb",
      "provenance": [],
      "authorship_tag": "ABX9TyPLcDF7MOTB/r2dpC7+3KpF"
    },
    "kernelspec": {
      "name": "python3",
      "display_name": "Python 3"
    },
    "language_info": {
      "name": "python"
    }
  },
  "cells": [
    {
      "cell_type": "code",
      "source": [
        "from bs4 import BeautifulSoup\n",
        "import urllib3\n",
        "headers =  ({'User-Agent' : \n",
        "\t'Mozilla/5.0 (X11; Ubuntu; Linux x86_64; rv:102.0) Gecko/20100101 Firefox/102.0'})"
      ],
      "metadata": {
        "id": "3h4tmAY1vL03"
      },
      "execution_count": null,
      "outputs": []
    },
    {
      "cell_type": "markdown",
      "source": [
        "criando a função crawl \n",
        "\n",
        "comando try/ except para capturar algum erro que se deu ao carregar a pagina ele continuar excecutando o codigo\n",
        "\n",
        "lxml = parser para extração html\n",
        "\n",
        "parametro 'a' e a tag que segui o link\n",
        "\n",
        "content = titulo\n",
        "\n",
        "'href' efetivamente acompanha o link no html "
      ],
      "metadata": {
        "id": "EhVMSBGqvK-r"
      }
    },
    {
      "cell_type": "code",
      "execution_count": 2,
      "metadata": {
        "id": "N10T3u2qnCiW"
      },
      "outputs": [],
      "source": [
        "\n",
        "\n",
        "\n",
        "\n",
        "def crawl(pagina):\n",
        "    urllib3.disable_warnings(urllib3.exceptions.InsecureRequestWarning)\n",
        "    http = urllib3.PoolManager()\n",
        "    try:\n",
        "        dados_pagina = http.request('get', pagina, headers=headers)\n",
        "    except:\n",
        "        print('erro ao abrir a pagina' + pagina, headers=headers)\n",
        "\n",
        "    sopa = BeautifulSoup(dados_pagina.data, \"lxml\") \n",
        "    links = sopa.find_all('a')\n",
        "    for link in links:\n",
        "        print(str(link.contents) + \"  -  \" + str(link.get('href')))  \n"
      ]
    },
    {
      "cell_type": "markdown",
      "source": [
        "metodo crawl de consulta de links dentro do html"
      ],
      "metadata": {
        "id": "jClakAE6xYcl"
      }
    },
    {
      "cell_type": "code",
      "source": [
        "crawl('https://www.exemploqualquer.com.br')  "
      ],
      "metadata": {
        "id": "B_Cfy4LmxQIm"
      },
      "execution_count": null,
      "outputs": []
    },
    {
      "cell_type": "markdown",
      "source": [
        ""
      ],
      "metadata": {
        "id": "GYO_JWxZvIN6"
      }
    }
  ]
}